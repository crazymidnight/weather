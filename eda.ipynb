{
 "cells": [
  {
   "cell_type": "code",
   "execution_count": 1,
   "metadata": {},
   "outputs": [],
   "source": [
    "import cartopy.crs as ccrs\n",
    "import cartopy.feature as cfeature\n",
    "import matplotlib.pyplot as plt\n",
    "import metpy.calc as mpcalc\n",
    "import xarray as xr\n",
    "from metpy.testing import get_test_data\n",
    "from metpy.units import units\n",
    "import sqlite3\n",
    "import pandas as pd"
   ]
  },
  {
   "cell_type": "code",
   "execution_count": 2,
   "metadata": {},
   "outputs": [],
   "source": [
    "data = xr.open_dataset(\n",
    "    \"_grib2netcdf-atls00-70e05f9f8ba4e9d19932f1c45a7be8d8-f2pZfK.nc\"\n",
    ")"
   ]
  },
  {
   "cell_type": "code",
   "execution_count": 3,
   "metadata": {},
   "outputs": [
    {
     "name": "stderr",
     "output_type": "stream",
     "text": [
      "Found latitude/longitude values, assuming latitude_longitude for projection grid_mapping variable\n"
     ]
    }
   ],
   "source": [
    "data = data.metpy.parse_cf()\n",
    "\n",
    "data[\"t2m\"].metpy.convert_units(\"degC\")"
   ]
  },
  {
   "cell_type": "code",
   "execution_count": 3,
   "metadata": {},
   "outputs": [],
   "source": [
    "lon, lat, time, temp = data[\"longitude\"], data[\"latitude\"], data[\"time\"], data[\"t2m\"]"
   ]
  },
  {
   "cell_type": "code",
   "execution_count": 28,
   "metadata": {},
   "outputs": [],
   "source": [
    "with sqlite3.connect(\"weather.db\") as conn:\n",
    "    temp.to_series().to_sql(name=\"temp\", con=conn, if_exists=\"replace\")"
   ]
  },
  {
   "cell_type": "code",
   "execution_count": 34,
   "metadata": {},
   "outputs": [
    {
     "name": "stdout",
     "output_type": "stream",
     "text": [
      "['time', 'latitude', 'longitude', 't2m']\n",
      "[('1996-01-01 00:00:00', 90.0, 90.0, -30.432723999023438), ('1996-02-01 00:00:00', 90.0, 90.0, -31.002410888671875), ('1996-03-01 00:00:00', 90.0, 90.0, -33.1783447265625), ('1996-04-01 00:00:00', 90.0, 90.0, -19.00018310546875), ('1996-05-01 00:00:00', 90.0, 90.0, -6.606903076171875), ('1996-06-01 00:00:00', 90.0, 90.0, 0.4197998046875), ('1996-07-01 00:00:00', 90.0, 90.0, 0.785552978515625), ('1996-08-01 00:00:00', 90.0, 90.0, -1.00103759765625), ('1996-09-01 00:00:00', 90.0, 90.0, -9.65087890625), ('1996-10-01 00:00:00', 90.0, 90.0, -20.47833251953125), ('1996-11-01 00:00:00', 90.0, 90.0, -18.277114868164062), ('1996-12-01 00:00:00', 90.0, 90.0, -30.178207397460938)]\n"
     ]
    }
   ],
   "source": [
    "with sqlite3.connect(\"weather.db\") as conn:\n",
    "    cursor = conn.execute(\"SELECT * FROM temp WHERE latitude = 90.0 AND longitude = 90.0 LIMIT 100\")\n",
    "    columns = [x[0] for x in cursor.description]\n",
    "    print(columns)\n",
    "    print(cursor.fetchall())"
   ]
  },
  {
   "cell_type": "code",
   "execution_count": null,
   "metadata": {},
   "outputs": [],
   "source": []
  }
 ],
 "metadata": {
  "kernelspec": {
   "display_name": "Python 3",
   "language": "python",
   "name": "python3"
  },
  "language_info": {
   "codemirror_mode": {
    "name": "ipython",
    "version": 3
   },
   "file_extension": ".py",
   "mimetype": "text/x-python",
   "name": "python",
   "nbconvert_exporter": "python",
   "pygments_lexer": "ipython3",
   "version": "3.7.6"
  }
 },
 "nbformat": 4,
 "nbformat_minor": 4
}
